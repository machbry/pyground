{
 "cells": [
  {
   "cell_type": "markdown",
   "source": [
    "# Natural Language Processing with Disaster Tweets\n",
    "https://www.kaggle.com/competitions/nlp-getting-started/data"
   ],
   "metadata": {
    "collapsed": false
   }
  },
  {
   "cell_type": "markdown",
   "source": [
    "# Read data"
   ],
   "metadata": {
    "collapsed": false
   }
  },
  {
   "cell_type": "code",
   "execution_count": 1,
   "outputs": [
    {
     "name": "stderr",
     "output_type": "stream",
     "text": [
      "[nltk_data] Downloading package punkt to C:\\Users\\CHAMBERY\n",
      "[nltk_data]     Matthieu\\AppData\\Roaming\\nltk_data...\n",
      "[nltk_data]   Package punkt is already up-to-date!\n",
      "[nltk_data] Downloading package stopwords to C:\\Users\\CHAMBERY\n",
      "[nltk_data]     Matthieu\\AppData\\Roaming\\nltk_data...\n",
      "[nltk_data]   Package stopwords is already up-to-date!\n"
     ]
    },
    {
     "data": {
      "text/plain": "True"
     },
     "execution_count": 1,
     "metadata": {},
     "output_type": "execute_result"
    }
   ],
   "source": [
    "from typing import Dict, List\n",
    "import pandas as pd\n",
    "import nltk\n",
    "import re\n",
    "\n",
    "nltk.download('punkt')\n",
    "nltk.download('stopwords')"
   ],
   "metadata": {
    "collapsed": false,
    "ExecuteTime": {
     "end_time": "2023-08-02T07:52:58.728205300Z",
     "start_time": "2023-08-02T07:52:55.676143300Z"
    }
   }
  },
  {
   "cell_type": "code",
   "execution_count": 2,
   "outputs": [
    {
     "data": {
      "text/plain": "(7613, 4)"
     },
     "execution_count": 2,
     "metadata": {},
     "output_type": "execute_result"
    }
   ],
   "source": [
    "data = pd.read_csv('data/disaster_tweets/train.csv', index_col='id')\n",
    "data.shape"
   ],
   "metadata": {
    "collapsed": false,
    "ExecuteTime": {
     "end_time": "2023-08-02T07:52:58.828305300Z",
     "start_time": "2023-08-02T07:52:58.731205700Z"
    }
   }
  },
  {
   "cell_type": "code",
   "execution_count": 3,
   "outputs": [],
   "source": [
    "def random_tweet(df: pd.DataFrame = data) -> Dict:\n",
    "    return df.sample().to_dict(orient='records')[0]"
   ],
   "metadata": {
    "collapsed": false,
    "ExecuteTime": {
     "end_time": "2023-08-02T07:52:58.828305300Z",
     "start_time": "2023-08-02T07:52:58.815868300Z"
    }
   }
  },
  {
   "cell_type": "markdown",
   "source": [
    "# Exploratory Data Analysis"
   ],
   "metadata": {
    "collapsed": false
   }
  },
  {
   "cell_type": "code",
   "execution_count": 4,
   "outputs": [
    {
     "name": "stdout",
     "output_type": "stream",
     "text": [
      "7613 rows with 52 duplicated\n"
     ]
    }
   ],
   "source": [
    "data_duplicated = data[data.duplicated()]\n",
    "n_rows = data.shape[0]\n",
    "n_rows_duplicated = data_duplicated.shape[0]\n",
    "print(f\"{n_rows} rows with {n_rows_duplicated} duplicated\")"
   ],
   "metadata": {
    "collapsed": false,
    "ExecuteTime": {
     "end_time": "2023-08-02T07:52:58.836819Z",
     "start_time": "2023-08-02T07:52:58.819780800Z"
    }
   }
  },
  {
   "cell_type": "code",
   "execution_count": 5,
   "outputs": [
    {
     "data": {
      "text/plain": "(7561, 4)"
     },
     "execution_count": 5,
     "metadata": {},
     "output_type": "execute_result"
    }
   ],
   "source": [
    "data.drop_duplicates(ignore_index=True, inplace=True)\n",
    "data.shape"
   ],
   "metadata": {
    "collapsed": false,
    "ExecuteTime": {
     "end_time": "2023-08-02T07:52:58.907030400Z",
     "start_time": "2023-08-02T07:52:58.841322300Z"
    }
   }
  },
  {
   "cell_type": "code",
   "execution_count": 6,
   "outputs": [
    {
     "data": {
      "text/plain": "{'keyword': 61, 'location': 2500, 'text': 0, 'target': 0}"
     },
     "execution_count": 6,
     "metadata": {},
     "output_type": "execute_result"
    }
   ],
   "source": [
    "{col: data[data[col].isna()].shape[0] for col in data.columns}"
   ],
   "metadata": {
    "collapsed": false,
    "ExecuteTime": {
     "end_time": "2023-08-02T07:52:58.908027500Z",
     "start_time": "2023-08-02T07:52:58.868163800Z"
    }
   }
  },
  {
   "cell_type": "code",
   "execution_count": 7,
   "outputs": [
    {
     "name": "stdout",
     "output_type": "stream",
     "text": [
      "For column keyword: 221 uniques values, with an average of 33.9 corresponding tweets (min : 9, max: 45, std: 4.8)\n",
      "\n",
      "For column location: 3341 uniques values, with an average of 1.5 corresponding tweets (min : 1, max: 104, std: 3.0)\n",
      "\n",
      "For column target: 2 uniques values, with an average of 3780.5 corresponding tweets (min : 3239, max: 4322, std: 765.8)\n",
      "\n"
     ]
    }
   ],
   "source": [
    "columns=['keyword','location','target']\n",
    "for col in columns:\n",
    "    df_col_stats = data.groupby(by=col).text.count().sort_values(ascending=False).describe()\n",
    "    print(f\"For column {col}: {df_col_stats['count']:0.0f} uniques values, with an average of {df_col_stats['mean']:0.1f} corresponding tweets (min : {df_col_stats['min']:0.0f}, max: {df_col_stats['max']:0.0f}, std: {df_col_stats['std']:0.1f})\\n\")"
   ],
   "metadata": {
    "collapsed": false,
    "ExecuteTime": {
     "end_time": "2023-08-02T07:52:58.909028400Z",
     "start_time": "2023-08-02T07:52:58.893508100Z"
    }
   }
  },
  {
   "cell_type": "code",
   "execution_count": 8,
   "outputs": [
    {
     "name": "stdout",
     "output_type": "stream",
     "text": [
      "In the 7561 tweets, 3239 (42.84%) are about real disasters.\n"
     ]
    }
   ],
   "source": [
    "n_tweets = data['target'].shape[0]\n",
    "n_disasters_tweets = data[data['target'] == 1].shape[0]\n",
    "print(f\"In the {n_tweets} tweets, {n_disasters_tweets} ({100*n_disasters_tweets/n_tweets:0.2f}%) are about real disasters.\")"
   ],
   "metadata": {
    "collapsed": false,
    "ExecuteTime": {
     "end_time": "2023-08-02T07:52:58.919370400Z",
     "start_time": "2023-08-02T07:52:58.896512300Z"
    }
   }
  },
  {
   "cell_type": "code",
   "execution_count": 9,
   "outputs": [
    {
     "data": {
      "text/plain": "count    7561.000000\nmean      100.924084\nstd        33.789044\nmin         7.000000\n25%        77.000000\n50%       107.000000\n75%       133.000000\nmax       157.000000\nName: text_len, dtype: float64"
     },
     "execution_count": 9,
     "metadata": {},
     "output_type": "execute_result"
    }
   ],
   "source": [
    "data['text_len'] = data['text'].apply(len)\n",
    "data['text_len'].describe()"
   ],
   "metadata": {
    "collapsed": false,
    "ExecuteTime": {
     "end_time": "2023-08-02T07:52:58.987782200Z",
     "start_time": "2023-08-02T07:52:58.913366500Z"
    }
   }
  },
  {
   "cell_type": "code",
   "execution_count": 10,
   "outputs": [
    {
     "data": {
      "text/plain": "array([[<Axes: title={'center': 'text_len'}>]], dtype=object)"
     },
     "execution_count": 10,
     "metadata": {},
     "output_type": "execute_result"
    },
    {
     "data": {
      "text/plain": "<Figure size 640x480 with 1 Axes>",
      "image/png": "[encoded data removed]"
     },
     "metadata": {},
     "output_type": "display_data"
    }
   ],
   "source": [
    "data.hist(column='text_len')"
   ],
   "metadata": {
    "collapsed": false,
    "ExecuteTime": {
     "end_time": "2023-08-02T07:53:00.085813800Z",
     "start_time": "2023-08-02T07:52:58.928384200Z"
    }
   }
  },
  {
   "cell_type": "markdown",
   "source": [
    "# Text processing"
   ],
   "metadata": {
    "collapsed": false
   }
  },
  {
   "cell_type": "code",
   "execution_count": 11,
   "outputs": [],
   "source": [
    "TOKENIZER = nltk.TweetTokenizer()\n",
    "REGEX = r'\\w{3,}'\n",
    "STOPWORDS = nltk.corpus.stopwords.words('english')\n",
    "STEMMER = nltk.stem.snowball.EnglishStemmer()"
   ],
   "metadata": {
    "collapsed": false,
    "ExecuteTime": {
     "end_time": "2023-08-02T07:53:00.183764600Z",
     "start_time": "2023-08-02T07:53:00.080286300Z"
    }
   }
  },
  {
   "cell_type": "code",
   "execution_count": 12,
   "outputs": [],
   "source": [
    "def tokenize_text(txt: str, tokenizer=TOKENIZER) -> List[str]:\n",
    "    return tokenizer.tokenize(text=txt.lower())"
   ],
   "metadata": {
    "collapsed": false,
    "ExecuteTime": {
     "end_time": "2023-08-02T07:53:00.184769900Z",
     "start_time": "2023-08-02T07:53:00.098516100Z"
    }
   }
  },
  {
   "cell_type": "code",
   "execution_count": 13,
   "outputs": [],
   "source": [
    "def process_words(words: List[str], regex=REGEX, stopwords=STOPWORDS, stemmer=STEMMER) -> List[str]:\n",
    "    return [stemmer.stem(word) for word in words if (re.match(regex, word) and\n",
    "                                                     word not in stopwords)]"
   ],
   "metadata": {
    "collapsed": false,
    "ExecuteTime": {
     "end_time": "2023-08-02T07:53:00.184769900Z",
     "start_time": "2023-08-02T07:53:00.112629700Z"
    }
   }
  },
  {
   "cell_type": "code",
   "execution_count": 14,
   "outputs": [
    {
     "name": "stdout",
     "output_type": "stream",
     "text": [
      "\"{'keyword': 'catastrophe', 'location': 'Stockholm, Sweden', 'text': 'I rated Catastrophe (2015) 8/10  #IMDb - hilarious! http://t.co/cjrSSRY1RT', 'target': 0, 'text_len': 74}\"\n",
      "\n",
      "tokenized into :\n",
      "\n",
      "['i', 'rated', 'catastrophe', '(', '2015', ')', '8/', '10', '#imdb', '-', 'hilarious', '!', 'http://t.co/cjrssry1rt']\n",
      "\n",
      "without stopwords & with stemming :\n",
      "\n",
      "['rate', 'catastroph', '2015', 'hilari', 'http://t.co/cjrssry1rt']\n",
      "\n",
      "\n"
     ]
    }
   ],
   "source": [
    "tweet = random_tweet()\n",
    "tokens_raw = tokenize_text(txt=tweet['text'])\n",
    "tokens = process_words(tokens_raw)\n",
    "print(f\"\\\"{tweet}\\\"\\n\\n\"\n",
    "      f\"tokenized into :\\n\\n\"\n",
    "      f\"{tokens_raw}\\n\\n\"\n",
    "      f\"without stopwords & with stemming :\\n\\n\"\n",
    "      f\"{tokens}\\n\\n\")"
   ],
   "metadata": {
    "collapsed": false,
    "ExecuteTime": {
     "end_time": "2023-08-02T07:53:00.185763700Z",
     "start_time": "2023-08-02T07:53:00.127146300Z"
    }
   }
  }
 ],
 "metadata": {
  "kernelspec": {
   "display_name": "Python 3",
   "language": "python",
   "name": "python3"
  },
  "language_info": {
   "codemirror_mode": {
    "name": "ipython",
    "version": 2
   },
   "file_extension": ".py",
   "mimetype": "text/x-python",
   "name": "python",
   "nbconvert_exporter": "python",
   "pygments_lexer": "ipython2",
   "version": "2.7.6"
  }
 },
 "nbformat": 4,
 "nbformat_minor": 0
}
